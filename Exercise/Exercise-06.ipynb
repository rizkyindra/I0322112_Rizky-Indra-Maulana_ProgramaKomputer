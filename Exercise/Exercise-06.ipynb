{
 "cells": [
  {
   "attachments": {},
   "cell_type": "markdown",
   "metadata": {},
   "source": [
    "1. Tulis program dengan fungsi untuk menentukan angka median dari tiga angka yang diberikan!\n",
    "     ###### Note: Angka ditentukan sendiri oleh praktikan"
   ]
  },
  {
   "cell_type": "code",
   "execution_count": 19,
   "metadata": {},
   "outputs": [
    {
     "name": "stdout",
     "output_type": "stream",
     "text": [
      "Median datanya adalah =  1200\n"
     ]
    }
   ],
   "source": [
    "# Kerjakan Nomor 1 di bawah ini\n",
    "X = [1111, 1200, 1300]\n",
    "\n",
    "def median(a, b, c):\n",
    "    if b <= a <= c or b <= a <= b:\n",
    "        return a\n",
    "    elif a <= b <= c or c <= b <= a:\n",
    "        return b\n",
    "    else:\n",
    "        return c\n",
    "print('Median datanya adalah = ', median(1111, 1200, 1300))"
   ]
  },
  {
   "attachments": {},
   "cell_type": "markdown",
   "metadata": {},
   "source": [
    "2. Tulis fungsi Python yang mengambil list awal dan menampilkan list baru dengan angka unik (tidak ada angka yang sama) dari list yang pertama."
   ]
  },
  {
   "cell_type": "code",
   "execution_count": null,
   "metadata": {},
   "outputs": [],
   "source": [
    "list_awal = [40,40,40,40,40,41,41,42,44,45,45,45,45,46,47,48,50,50,50]"
   ]
  },
  {
   "cell_type": "code",
   "execution_count": 12,
   "metadata": {},
   "outputs": [
    {
     "name": "stdout",
     "output_type": "stream",
     "text": [
      "list baru = [40, 41, 42, 44, 45, 46, 47, 48, 50]\n"
     ]
    }
   ],
   "source": [
    "# Kerjakan Nomor 2 di bawah ini\n",
    "list_awal = [40,40,40,40,40,41,41,42,44,45,45,45,45,46,47,48,50,50,50]\n",
    "\n",
    "list_baru = list(set(list_awal))\n",
    "print('list baru =', list_baru)"
   ]
  },
  {
   "attachments": {},
   "cell_type": "markdown",
   "metadata": {},
   "source": [
    "3. Terdapat 2 list yang berbeda, gabungkan 2 list berikut menggunakan fungsi built-in dan tampilkan hasilnya dengan cara menurun/memakai perulangan/bukan menggunakan list! "
   ]
  },
  {
   "cell_type": "code",
   "execution_count": 13,
   "metadata": {},
   "outputs": [
    {
     "name": "stdout",
     "output_type": "stream",
     "text": [
      "buah apel\n",
      "kota solo\n",
      "selembar kertas\n",
      "sepasang angsa\n",
      "sebuah bintang\n"
     ]
    }
   ],
   "source": [
    "list1 = ['buah', 'kota', 'selembar', 'sepasang', 'sebuah']\n",
    "list2 = ['apel', 'solo', 'kertas', 'angsa', 'bintang']\n",
    "\n",
    "for a,b in zip(list1, list2):\n",
    "    print(a, b)"
   ]
  }
 ],
 "metadata": {
  "kernelspec": {
   "display_name": "Python 3",
   "language": "python",
   "name": "python3"
  },
  "language_info": {
   "codemirror_mode": {
    "name": "ipython",
    "version": 3
   },
   "file_extension": ".py",
   "mimetype": "text/x-python",
   "name": "python",
   "nbconvert_exporter": "python",
   "pygments_lexer": "ipython3",
   "version": "3.10.11"
  },
  "orig_nbformat": 4,
  "vscode": {
   "interpreter": {
    "hash": "5addf786bcd861d1ce5006f23111f8cbb206731e5b61b0a5632ba9e0252558a8"
   }
  }
 },
 "nbformat": 4,
 "nbformat_minor": 2
}
