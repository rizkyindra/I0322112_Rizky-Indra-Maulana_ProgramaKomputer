{
 "cells": [
  {
   "cell_type": "code",
   "execution_count": null,
   "metadata": {},
   "outputs": [],
   "source": [
    "print(input(\"Rizky Indra Maulana: \"))\n",
    "print(input(\"I0322112: \"))\n",
    "print(input(\"Kelas D: \"))"
   ]
  },
  {
   "attachments": {},
   "cell_type": "markdown",
   "metadata": {},
   "source": [
    "## 1."
   ]
  },
  {
   "attachments": {},
   "cell_type": "markdown",
   "metadata": {},
   "source": [
    "Buatlah program yang menampilkan salam “Selamat Pagi” dari berbagai negara {Inggris, Perancis, Italia, Spanyol, Jepang, Korea} dengan dua input dari user yaitu bahasa dan diikuti nama user.<br>\n",
    "<br>Ex : \n",
    "<br>\"Ohayou, Onii Chan\"\n",
    "> *note: Kerjakan soal ini dengan percabangan*"
   ]
  },
  {
   "cell_type": "code",
   "execution_count": 38,
   "metadata": {},
   "outputs": [
    {
     "name": "stdout",
     "output_type": "stream",
     "text": [
      "Good Morning Indra\n"
     ]
    }
   ],
   "source": [
    "Bahasa = str(input(\"Ucapan Selamat Pagi dalam bahasa apa yang anda inginkan? Inggris, Perancis, Italia, Spanyol, Jepang, Korea =\" ))\n",
    "Nama = str(input(\"Siapa Nama Anda? =\"))\n",
    "\n",
    "if Bahasa == \"Inggris\" :\n",
    "    print(\"Good Morning\", Nama)\n",
    "elif Bahasa == \"Perancis\" :\n",
    "    print(\"Bonjour\", Nama)\n",
    "elif Bahasa == \"Italia\" :\n",
    "    print(\"Buongiorno\", Nama)\n",
    "elif Bahasa == \"Spanyol\" :\n",
    "    print(\"Buen Día\", Nama)\n",
    "elif Bahasa == \"Jepang\" :\n",
    "    print(\"おはようございます >>OHAYÔ GOZAIMASU<<\", Nama)\n",
    "elif Bahasa == \"Korea\" :\n",
    "    print(\"좋은 아침입니다 ^^joheun achimimnida^^\", Nama)"
   ]
  },
  {
   "attachments": {},
   "cell_type": "markdown",
   "metadata": {},
   "source": [
    "## 2."
   ]
  },
  {
   "attachments": {},
   "cell_type": "markdown",
   "metadata": {},
   "source": [
    "Buatlah program perhitungan umur dengan menggunakan input user yaitu tahun lahir dari user.<br>\n",
    "<br>Output yang dihasilkan adalah sebagai berikut:\n",
    "<br>\"Apakah anda berasal dari masa depan?\"\n",
    "<br>\"Anda barusaja lahir\"\n",
    "<br>\"Umur Anda adalah xx tahun\"\n",
    "> *note: Kerjakan soal ini dengan percabangan*"
   ]
  },
  {
   "cell_type": "code",
   "execution_count": 16,
   "metadata": {},
   "outputs": [
    {
     "name": "stdout",
     "output_type": "stream",
     "text": [
      "Anda merupakan sosok manusia yang berasal dari masa depan!\n"
     ]
    }
   ],
   "source": [
    "Tahun = int(input('Ditahun berapa anda dilahirkan? = '))\n",
    "\n",
    "if (Tahun == 2023):\n",
    "    print('Sekarang anda baru saja lahir')\n",
    "elif(Tahun > 2023):\n",
    "    print('Anda merupakan sosok manusia yang berasal dari masa depan!')\n",
    "elif(Tahun < 2023):\n",
    "    print('Sekarang umur anda adalah ',2023-Tahun,' tahun')"
   ]
  }
 ],
 "metadata": {
  "kernelspec": {
   "display_name": "Python 3",
   "language": "python",
   "name": "python3"
  },
  "language_info": {
   "codemirror_mode": {
    "name": "ipython",
    "version": 3
   },
   "file_extension": ".py",
   "mimetype": "text/x-python",
   "name": "python",
   "nbconvert_exporter": "python",
   "pygments_lexer": "ipython3",
   "version": "3.10.8"
  },
  "orig_nbformat": 4
 },
 "nbformat": 4,
 "nbformat_minor": 2
}
